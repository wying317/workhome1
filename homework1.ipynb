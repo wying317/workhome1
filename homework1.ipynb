{
 "cells": [
  {
   "cell_type": "code",
   "execution_count": 8,
   "metadata": {},
   "outputs": [
    {
     "name": "stdout",
     "output_type": "stream",
     "text": [
      "1\t5\t12\t22\t35\t51\t70\t92\t117\t145\t\n",
      "176\t210\t247\t287\t330\t376\t425\t477\t532\t590\t\n",
      "651\t715\t782\t852\t925\t1001\t1080\t1162\t1247\t1335\t\n",
      "1426\t1520\t1617\t1717\t1820\t1926\t2035\t2147\t2262\t2380\t\n",
      "2501\t2625\t2752\t2882\t3015\t3151\t3290\t3432\t3577\t3725\t\n",
      "3876\t4030\t4187\t4347\t4510\t4676\t4845\t5017\t5192\t5370\t\n",
      "5551\t5735\t5922\t6112\t6305\t6501\t6700\t6902\t7107\t7315\t\n",
      "7526\t7740\t7957\t8177\t8400\t8626\t8855\t9087\t9322\t9560\t\n",
      "9801\t10045\t10292\t10542\t10795\t11051\t11310\t11572\t11837\t12105\t\n",
      "12376\t12650\t12927\t13207\t13490\t13776\t14065\t14357\t14652\t14950\t\n"
     ]
    }
   ],
   "source": [
    "#第一题\n",
    "#一个五角数被定义为n(3n-1)/2，编写一个测试程序使用这个函数显示前100个五角数。每行显示10个\n",
    "def getPentagonalNumber(n):\n",
    "    c = int(n * (3 * n-1) / 2)\n",
    "    print(c,end='\\t')\n",
    "    if n % 10 ==0:\n",
    "        print()\n",
    "for i in range(1,101):\n",
    "    getPentagonalNumber(i)"
   ]
  },
  {
   "cell_type": "code",
   "execution_count": 7,
   "metadata": {},
   "outputs": [
    {
     "name": "stdout",
     "output_type": "stream",
     "text": [
      "26\n"
     ]
    }
   ],
   "source": [
    "#第二题\n",
    "def sumDigits(n):\n",
    "    a = n\n",
    "    b = 0\n",
    "#str 将括号中的内容强制转换为字符串\n",
    "    for i in range(0,len(str(a))):\n",
    "        if i<len(str(a)):\n",
    "            e = n % 10\n",
    "            n = n //10\n",
    "        b = b + e\n",
    "    print(b)\n",
    "sumDigits(27953)"
   ]
  },
  {
   "cell_type": "code",
   "execution_count": 6,
   "metadata": {},
   "outputs": [
    {
     "name": "stdout",
     "output_type": "stream",
     "text": [
      "Enter three number: 56 89 21\n",
      "The sorted number are 21 56 89\n"
     ]
    }
   ],
   "source": [
    "#第三题\n",
    "def desplaySortedNumbers(num1,num2,num3):\n",
    "    print(\"Enter three number:\",num1,num2,num3)\n",
    "    if num1>num2 and num1>num3:\n",
    "        if num2 > num3:\n",
    "            print(\"The sorted number are\",num3,num2,num1)\n",
    "        else:\n",
    "            print(\"The sorted number are\",num2,num3,num1)\n",
    "    elif num2>num1 and num2>num3:\n",
    "        if num1 > num3:\n",
    "            print(\"The sorted number are\",num3,num1,num2)\n",
    "        else:\n",
    "            print(\"The sorted number are\",num1,num3,num2)\n",
    "    elif num3>num1 and num3>num2:\n",
    "        if num1 > num2:\n",
    "            print(\"The sorted number are\",num2,num1,num3)\n",
    "        else:\n",
    "            print(\"The sorted number are\",num1,num2,num3)\n",
    "desplaySortedNumbers(56,89,21)"
   ]
  },
  {
   "cell_type": "code",
   "execution_count": 23,
   "metadata": {},
   "outputs": [
    {
     "name": "stdout",
     "output_type": "stream",
     "text": [
      "1 10900.0\n",
      "2 11881.0\n",
      "3 12950.29\n",
      "4 14115.8161\n",
      "5 15386.239549\n",
      "6 16771.00110841\n",
      "7 18280.3912081669\n",
      "8 19925.62641690192\n",
      "9 21718.932794423094\n",
      "10 23673.636745921172\n",
      "11 25804.264053054078\n",
      "12 28126.647817828944\n",
      "13 30658.04612143355\n",
      "14 33417.27027236257\n",
      "15 36424.8245968752\n",
      "16 39703.05881059397\n",
      "17 43276.33410354742\n",
      "18 47171.20417286669\n",
      "19 51416.61254842469\n",
      "20 56044.10767778291\n",
      "21 61088.07736878337\n",
      "22 66586.00433197388\n",
      "23 72578.74472185153\n",
      "24 79110.83174681816\n",
      "25 86230.8066040318\n",
      "26 93991.57919839465\n",
      "27 102450.82132625018\n",
      "28 111671.3952456127\n",
      "29 121721.82081771785\n",
      "30 132676.78469131247\n"
     ]
    }
   ],
   "source": [
    "#第四题\n",
    "# 编写一个程序提示用户输入投资额和百分比格式的年利率，然后输出一份表格显示年份从1到30年的未来值。\n",
    "def futureInvestmentValue(benjin,lilv,years):\n",
    "    years = years+1\n",
    "    for i in range(1,years):\n",
    "        shouyi = benjin + benjin*lilv\n",
    "        print(i,shouyi)\n",
    "        benjin=shouyi\n",
    "futureInvestmentValue(10000,0.09,30)"
   ]
  },
  {
   "cell_type": "code",
   "execution_count": 7,
   "metadata": {},
   "outputs": [
    {
     "name": "stdout",
     "output_type": "stream",
     "text": [
      "2  3  4  5  6  7  8  9  :  ;\n",
      "<  =  >  ?  @  A  B  C  D  E\n",
      "F  G  H  I  J  K  L  M  N  O\n",
      "P  Q  R  S  T  U  V  W  X  Y\n"
     ]
    }
   ],
   "source": [
    "#第五题\n",
    "#打印ch1到ch2之间的字符，按每行指定某个数来打印。编写一个测试程序，打印“1”到“Z”的字符，每行打印10个\n",
    "def printChars(ch1,ch2,num):\n",
    "    q=ord(ch1)+1\n",
    "    w=ord(ch2)\n",
    "    n=0\n",
    "    for i in range(q,w):\n",
    "        n=n+1\n",
    "        if n%num !=0:\n",
    "            print(chr(i),end='  ')\n",
    "        else:\n",
    "            print(chr(i))\n",
    "        \n",
    "printChars('1','Z',10)"
   ]
  },
  {
   "cell_type": "code",
   "execution_count": 8,
   "metadata": {},
   "outputs": [
    {
     "name": "stdout",
     "output_type": "stream",
     "text": [
      "2010 365天\n",
      "2011 365天\n",
      "2012 366天\n",
      "2013 365天\n",
      "2014 365天\n",
      "2015 365天\n",
      "2016 366天\n",
      "2017 365天\n",
      "2018 365天\n",
      "2019 365天\n",
      "2020 366天\n"
     ]
    }
   ],
   "source": [
    "#第六题\n",
    "#编写一个程序测试，显示从2010年到2020年每年的天数\n",
    "def numberOfDaysInAYrea(year):\n",
    "    if year%100==0:\n",
    "        if year%400==0:\n",
    "            print(year,\"366天\")\n",
    "        else:\n",
    "            print(year,\"365天\")\n",
    "    elif year%4==0:\n",
    "        print(year,\"366天\")\n",
    "    else:\n",
    "        print(year,\"365天\")\n",
    "\n",
    "for year in range(2010,2021):\n",
    "    numberOfDaysInAYrea(year)"
   ]
  },
  {
   "cell_type": "code",
   "execution_count": 9,
   "metadata": {},
   "outputs": [
    {
     "name": "stdout",
     "output_type": "stream",
     "text": [
      "两点间距离为： 2.8284271247461903\n"
     ]
    }
   ],
   "source": [
    "#第七题\n",
    "#计算两点间距离\n",
    "import math\n",
    "def distance(x1,y1,x2,y2):\n",
    "    q=(x1-x2)**2\n",
    "    w=(y1-y2)**2\n",
    "    e=q+w\n",
    "    dis= math.sqrt(e)\n",
    "    print(\"两点间距离为：\",dis)\n",
    "    \n",
    "distance(1,2,3,4)"
   ]
  },
  {
   "cell_type": "code",
   "execution_count": 10,
   "metadata": {},
   "outputs": [
    {
     "name": "stdout",
     "output_type": "stream",
     "text": [
      "2 3\n",
      "3 7\n",
      "5 31\n",
      "7 127\n",
      "11 2047\n",
      "13 8191\n",
      "17 131071\n",
      "19 524287\n",
      "23 8388607\n",
      "29 536870911\n",
      "31 2147483647\n"
     ]
    }
   ],
   "source": [
    "#第八题\n",
    "#如果一个素数可以写成2**（P-1）的形式，其中p是某个正整数，那么这个数就被称作梅森素数。编写程序找出p<=31的梅森素数。\n",
    "def meisen(p):\n",
    "    q=pow(2,p)-1\n",
    "    m=2\n",
    "    if p==2:\n",
    "        print(p,q)\n",
    "    for i in range(2,p):\n",
    "        m=m+1\n",
    "        if p%i==0:\n",
    "            break\n",
    "        if m == p:\n",
    "            print(p,q)\n",
    "            \n",
    "for p in range(1,32):\n",
    "    meisen(p)"
   ]
  },
  {
   "cell_type": "code",
   "execution_count": 1,
   "metadata": {},
   "outputs": [
    {
     "name": "stdout",
     "output_type": "stream",
     "text": [
      "1565341951.4362242\n",
      "Cuurrent date and time is 2019 年 8 月 9 日 17 : 12 : 31\n"
     ]
    }
   ],
   "source": [
    "#第九题\n",
    "#调用time.time()返回1970年1月1日0点开始的毫秒数。\n",
    "import time\n",
    "print(time.time())\n",
    "time = time.localtime(time.time())\n",
    "print(\"Cuurrent date and time is\",time.tm_year,\"年\",\n",
    "      time.tm_mon,\"月\",time.tm_mday,\"日\",\n",
    "      time.tm_hour,\":\",time.tm_min,\":\",time.tm_sec)"
   ]
  },
  {
   "cell_type": "code",
   "execution_count": 6,
   "metadata": {},
   "outputs": [
    {
     "name": "stdout",
     "output_type": "stream",
     "text": [
      "您第一次抛出的点数为： 3\n",
      "您第二次抛出的点数为： 3\n",
      "您抛出的两次点数之和为： 6\n",
      "您第一次抛出的点数为： 4\n",
      "您第二次抛出的点数为： 4\n",
      "您抛出的两次点数之和为： 8\n",
      "请开下一局\n"
     ]
    }
   ],
   "source": [
    "#第十题\n",
    "#(游戏，掷骰子)\n",
    "import numpy as np\n",
    "def dianshu():\n",
    "    res1 = np.random.choice([1,2,3,4,5,6])\n",
    "    print(\"您第一次抛出的点数为：\",res1)\n",
    "    res2 = np.random.choice([1,2,3,4,5,6])\n",
    "    print(\"您第二次抛出的点数为：\",res2)\n",
    "    res = res1 + res2\n",
    "    print(\"您抛出的两次点数之和为：\",res)\n",
    "    return res\n",
    "res = dianshu()\n",
    "if res==2 or res==3 or res==12: \n",
    "    print(\"您输了\")\n",
    "elif res==7 or res==11:\n",
    "    print(\"您赢了\")\n",
    "else:\n",
    "    res3 = res\n",
    "    res = dianshu()\n",
    "    if res==7 or res == res3:\n",
    "        print(\"您赢了\")\n",
    "    else:\n",
    "        print(\"请开下一局\")"
   ]
  },
  {
   "cell_type": "code",
   "execution_count": 9,
   "metadata": {},
   "outputs": [
    {
     "name": "stdout",
     "output_type": "stream",
     "text": [
      "20:37:12 \r"
     ]
    }
   ],
   "source": [
    "import time\n",
    "class Time(object):\n",
    "    def __init__(self):\n",
    "        self.time=time\n",
    "    def shuzi(self):\n",
    "        for i in range(1,100):\n",
    "            i=i+1\n",
    "            if i<100:\n",
    "                time.sleep(1)\n",
    "                now = time.localtime()\n",
    "                print(time.strftime(\"%H:%M:%S \\r\",now),end=\"\",flush=True)\n",
    "                if time.strftime(\"%H:%M:%S\",now)=='20.11.23':\n",
    "                    print(\"闹钟响了\")\n",
    "                else:\n",
    "                    pass\n",
    "Time().shuzi()               "
   ]
  },
  {
   "cell_type": "code",
   "execution_count": null,
   "metadata": {},
   "outputs": [],
   "source": []
  }
 ],
 "metadata": {
  "kernelspec": {
   "display_name": "Python 3",
   "language": "python",
   "name": "python3"
  },
  "language_info": {
   "codemirror_mode": {
    "name": "ipython",
    "version": 3
   },
   "file_extension": ".py",
   "mimetype": "text/x-python",
   "name": "python",
   "nbconvert_exporter": "python",
   "pygments_lexer": "ipython3",
   "version": "3.6.4"
  }
 },
 "nbformat": 4,
 "nbformat_minor": 2
}
